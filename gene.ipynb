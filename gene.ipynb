{
 "cells": [
  {
   "cell_type": "code",
   "execution_count": 57,
   "metadata": {},
   "outputs": [],
   "source": [
    "import statsmodels\n",
    "import scipy\n",
    "import numpy as np\n",
    "import pandas as pd\n",
    "import statsmodels.formula.api as smf\n",
    "import statsmodels.stats.api as sms\n",
    "from statsmodels.graphics.regressionplots import plot_leverage_resid2\n",
    "import matplotlib.pyplot as plt"
   ]
  },
  {
   "cell_type": "code",
   "execution_count": 58,
   "metadata": {},
   "outputs": [
    {
     "data": {
      "text/html": [
       "<div>\n",
       "<style scoped>\n",
       "    .dataframe tbody tr th:only-of-type {\n",
       "        vertical-align: middle;\n",
       "    }\n",
       "\n",
       "    .dataframe tbody tr th {\n",
       "        vertical-align: top;\n",
       "    }\n",
       "\n",
       "    .dataframe thead th {\n",
       "        text-align: right;\n",
       "    }\n",
       "</style>\n",
       "<table border=\"1\" class=\"dataframe\">\n",
       "  <thead>\n",
       "    <tr style=\"text-align: right;\">\n",
       "      <th></th>\n",
       "      <th>Patient_id</th>\n",
       "      <th>Diagnosis</th>\n",
       "      <th>LOC643837</th>\n",
       "      <th>LOC100130417</th>\n",
       "      <th>SAMD11</th>\n",
       "      <th>NOC2L</th>\n",
       "      <th>KLHL17</th>\n",
       "      <th>PLEKHN1</th>\n",
       "      <th>C1orf170</th>\n",
       "      <th>HES4</th>\n",
       "      <th>...</th>\n",
       "      <th>CLIC2</th>\n",
       "      <th>RPS4Y1</th>\n",
       "      <th>ZFY</th>\n",
       "      <th>PRKY</th>\n",
       "      <th>USP9Y</th>\n",
       "      <th>DDX3Y</th>\n",
       "      <th>CD24</th>\n",
       "      <th>CYorf15B</th>\n",
       "      <th>KDM5D</th>\n",
       "      <th>EIF1AY</th>\n",
       "    </tr>\n",
       "  </thead>\n",
       "  <tbody>\n",
       "    <tr>\n",
       "      <th>0</th>\n",
       "      <td>STT5425_Breast_001_normal</td>\n",
       "      <td>normal</td>\n",
       "      <td>1.257614</td>\n",
       "      <td>2.408148</td>\n",
       "      <td>13.368622</td>\n",
       "      <td>9.494779</td>\n",
       "      <td>20.880435</td>\n",
       "      <td>12.722017</td>\n",
       "      <td>9.494779</td>\n",
       "      <td>54.349694</td>\n",
       "      <td>...</td>\n",
       "      <td>4.761250</td>\n",
       "      <td>1.257614</td>\n",
       "      <td>1.257614</td>\n",
       "      <td>1.257614</td>\n",
       "      <td>1.257614</td>\n",
       "      <td>1.257614</td>\n",
       "      <td>23.268694</td>\n",
       "      <td>1.257614</td>\n",
       "      <td>1.257614</td>\n",
       "      <td>1.257614</td>\n",
       "    </tr>\n",
       "    <tr>\n",
       "      <th>1</th>\n",
       "      <td>STT5427_Breast_023_normal</td>\n",
       "      <td>normal</td>\n",
       "      <td>4.567931</td>\n",
       "      <td>16.602734</td>\n",
       "      <td>42.477752</td>\n",
       "      <td>25.562376</td>\n",
       "      <td>23.221137</td>\n",
       "      <td>11.622386</td>\n",
       "      <td>14.330573</td>\n",
       "      <td>72.445474</td>\n",
       "      <td>...</td>\n",
       "      <td>6.871902</td>\n",
       "      <td>1.815112</td>\n",
       "      <td>1.815112</td>\n",
       "      <td>1.815112</td>\n",
       "      <td>1.815112</td>\n",
       "      <td>1.815112</td>\n",
       "      <td>10.427023</td>\n",
       "      <td>1.815112</td>\n",
       "      <td>1.815112</td>\n",
       "      <td>1.815112</td>\n",
       "    </tr>\n",
       "    <tr>\n",
       "      <th>2</th>\n",
       "      <td>STT5430_Breast_002_normal</td>\n",
       "      <td>normal</td>\n",
       "      <td>2.077597</td>\n",
       "      <td>3.978294</td>\n",
       "      <td>12.863214</td>\n",
       "      <td>13.728915</td>\n",
       "      <td>14.543176</td>\n",
       "      <td>14.141907</td>\n",
       "      <td>6.232790</td>\n",
       "      <td>57.011005</td>\n",
       "      <td>...</td>\n",
       "      <td>7.096343</td>\n",
       "      <td>2.077597</td>\n",
       "      <td>2.077597</td>\n",
       "      <td>2.077597</td>\n",
       "      <td>2.077597</td>\n",
       "      <td>2.077597</td>\n",
       "      <td>22.344226</td>\n",
       "      <td>2.077597</td>\n",
       "      <td>2.077597</td>\n",
       "      <td>2.077597</td>\n",
       "    </tr>\n",
       "    <tr>\n",
       "      <th>3</th>\n",
       "      <td>STT5439_Breast_003_normal</td>\n",
       "      <td>normal</td>\n",
       "      <td>2.066576</td>\n",
       "      <td>8.520713</td>\n",
       "      <td>14.466035</td>\n",
       "      <td>7.823932</td>\n",
       "      <td>8.520713</td>\n",
       "      <td>2.066576</td>\n",
       "      <td>10.870009</td>\n",
       "      <td>53.292034</td>\n",
       "      <td>...</td>\n",
       "      <td>5.200770</td>\n",
       "      <td>2.066576</td>\n",
       "      <td>2.066576</td>\n",
       "      <td>2.066576</td>\n",
       "      <td>2.066576</td>\n",
       "      <td>2.066576</td>\n",
       "      <td>49.295538</td>\n",
       "      <td>2.066576</td>\n",
       "      <td>2.066576</td>\n",
       "      <td>2.066576</td>\n",
       "    </tr>\n",
       "    <tr>\n",
       "      <th>4</th>\n",
       "      <td>STT5441_Breast_004_normal</td>\n",
       "      <td>normal</td>\n",
       "      <td>2.613616</td>\n",
       "      <td>3.434965</td>\n",
       "      <td>12.682222</td>\n",
       "      <td>10.543189</td>\n",
       "      <td>26.688686</td>\n",
       "      <td>12.484822</td>\n",
       "      <td>1.364917</td>\n",
       "      <td>67.140393</td>\n",
       "      <td>...</td>\n",
       "      <td>11.227770</td>\n",
       "      <td>1.364917</td>\n",
       "      <td>1.364917</td>\n",
       "      <td>1.364917</td>\n",
       "      <td>1.364917</td>\n",
       "      <td>1.364917</td>\n",
       "      <td>23.627911</td>\n",
       "      <td>1.364917</td>\n",
       "      <td>1.364917</td>\n",
       "      <td>1.364917</td>\n",
       "    </tr>\n",
       "    <tr>\n",
       "      <th>...</th>\n",
       "      <td>...</td>\n",
       "      <td>...</td>\n",
       "      <td>...</td>\n",
       "      <td>...</td>\n",
       "      <td>...</td>\n",
       "      <td>...</td>\n",
       "      <td>...</td>\n",
       "      <td>...</td>\n",
       "      <td>...</td>\n",
       "      <td>...</td>\n",
       "      <td>...</td>\n",
       "      <td>...</td>\n",
       "      <td>...</td>\n",
       "      <td>...</td>\n",
       "      <td>...</td>\n",
       "      <td>...</td>\n",
       "      <td>...</td>\n",
       "      <td>...</td>\n",
       "      <td>...</td>\n",
       "      <td>...</td>\n",
       "      <td>...</td>\n",
       "    </tr>\n",
       "    <tr>\n",
       "      <th>67</th>\n",
       "      <td>STT5750_Breast_021_DCIS</td>\n",
       "      <td>cancer</td>\n",
       "      <td>1.466240</td>\n",
       "      <td>3.689955</td>\n",
       "      <td>21.331981</td>\n",
       "      <td>19.359546</td>\n",
       "      <td>23.505609</td>\n",
       "      <td>11.576176</td>\n",
       "      <td>11.325851</td>\n",
       "      <td>80.572057</td>\n",
       "      <td>...</td>\n",
       "      <td>2.807635</td>\n",
       "      <td>1.466240</td>\n",
       "      <td>2.807635</td>\n",
       "      <td>1.466240</td>\n",
       "      <td>2.807635</td>\n",
       "      <td>3.689955</td>\n",
       "      <td>18.449777</td>\n",
       "      <td>1.466240</td>\n",
       "      <td>1.466240</td>\n",
       "      <td>1.466240</td>\n",
       "    </tr>\n",
       "    <tr>\n",
       "      <th>68</th>\n",
       "      <td>STT5751_Breast_021_IDC</td>\n",
       "      <td>cancer</td>\n",
       "      <td>2.492410</td>\n",
       "      <td>12.279444</td>\n",
       "      <td>30.087759</td>\n",
       "      <td>17.703926</td>\n",
       "      <td>26.064890</td>\n",
       "      <td>10.707081</td>\n",
       "      <td>11.520120</td>\n",
       "      <td>65.041865</td>\n",
       "      <td>...</td>\n",
       "      <td>2.492410</td>\n",
       "      <td>2.492410</td>\n",
       "      <td>1.301619</td>\n",
       "      <td>3.275668</td>\n",
       "      <td>1.301619</td>\n",
       "      <td>1.301619</td>\n",
       "      <td>8.601194</td>\n",
       "      <td>1.301619</td>\n",
       "      <td>1.301619</td>\n",
       "      <td>1.301619</td>\n",
       "    </tr>\n",
       "    <tr>\n",
       "      <th>69</th>\n",
       "      <td>STT5758_Breast_022_IDC</td>\n",
       "      <td>cancer</td>\n",
       "      <td>3.530477</td>\n",
       "      <td>20.006038</td>\n",
       "      <td>53.924651</td>\n",
       "      <td>25.449565</td>\n",
       "      <td>30.949995</td>\n",
       "      <td>16.794696</td>\n",
       "      <td>17.121366</td>\n",
       "      <td>70.958462</td>\n",
       "      <td>...</td>\n",
       "      <td>1.176826</td>\n",
       "      <td>1.176826</td>\n",
       "      <td>1.176826</td>\n",
       "      <td>2.961613</td>\n",
       "      <td>1.176826</td>\n",
       "      <td>1.176826</td>\n",
       "      <td>10.764365</td>\n",
       "      <td>1.176826</td>\n",
       "      <td>1.176826</td>\n",
       "      <td>1.176826</td>\n",
       "    </tr>\n",
       "    <tr>\n",
       "      <th>70</th>\n",
       "      <td>STT5763_Breast_022_IDC</td>\n",
       "      <td>cancer</td>\n",
       "      <td>3.733734</td>\n",
       "      <td>8.860505</td>\n",
       "      <td>32.538666</td>\n",
       "      <td>21.585069</td>\n",
       "      <td>24.987992</td>\n",
       "      <td>11.460224</td>\n",
       "      <td>11.201202</td>\n",
       "      <td>67.767125</td>\n",
       "      <td>...</td>\n",
       "      <td>2.840946</td>\n",
       "      <td>1.483635</td>\n",
       "      <td>1.483635</td>\n",
       "      <td>1.483635</td>\n",
       "      <td>1.483635</td>\n",
       "      <td>1.483635</td>\n",
       "      <td>8.522837</td>\n",
       "      <td>1.483635</td>\n",
       "      <td>1.483635</td>\n",
       "      <td>1.483635</td>\n",
       "    </tr>\n",
       "    <tr>\n",
       "      <th>71</th>\n",
       "      <td>STT5825_Breast_024_IDC</td>\n",
       "      <td>cancer</td>\n",
       "      <td>0.833898</td>\n",
       "      <td>18.084880</td>\n",
       "      <td>60.584449</td>\n",
       "      <td>29.659104</td>\n",
       "      <td>31.093687</td>\n",
       "      <td>13.298860</td>\n",
       "      <td>11.010397</td>\n",
       "      <td>55.771485</td>\n",
       "      <td>...</td>\n",
       "      <td>3.698096</td>\n",
       "      <td>1.596792</td>\n",
       "      <td>1.596792</td>\n",
       "      <td>3.698096</td>\n",
       "      <td>0.833898</td>\n",
       "      <td>0.833898</td>\n",
       "      <td>13.978672</td>\n",
       "      <td>0.833898</td>\n",
       "      <td>2.848303</td>\n",
       "      <td>0.833898</td>\n",
       "    </tr>\n",
       "  </tbody>\n",
       "</table>\n",
       "<p>72 rows × 15750 columns</p>\n",
       "</div>"
      ],
      "text/plain": [
       "                   Patient_id Diagnosis  LOC643837  LOC100130417     SAMD11  \\\n",
       "0   STT5425_Breast_001_normal    normal   1.257614      2.408148  13.368622   \n",
       "1   STT5427_Breast_023_normal    normal   4.567931     16.602734  42.477752   \n",
       "2   STT5430_Breast_002_normal    normal   2.077597      3.978294  12.863214   \n",
       "3   STT5439_Breast_003_normal    normal   2.066576      8.520713  14.466035   \n",
       "4   STT5441_Breast_004_normal    normal   2.613616      3.434965  12.682222   \n",
       "..                        ...       ...        ...           ...        ...   \n",
       "67    STT5750_Breast_021_DCIS    cancer   1.466240      3.689955  21.331981   \n",
       "68     STT5751_Breast_021_IDC    cancer   2.492410     12.279444  30.087759   \n",
       "69     STT5758_Breast_022_IDC    cancer   3.530477     20.006038  53.924651   \n",
       "70     STT5763_Breast_022_IDC    cancer   3.733734      8.860505  32.538666   \n",
       "71     STT5825_Breast_024_IDC    cancer   0.833898     18.084880  60.584449   \n",
       "\n",
       "        NOC2L     KLHL17    PLEKHN1   C1orf170       HES4  ...      CLIC2  \\\n",
       "0    9.494779  20.880435  12.722017   9.494779  54.349694  ...   4.761250   \n",
       "1   25.562376  23.221137  11.622386  14.330573  72.445474  ...   6.871902   \n",
       "2   13.728915  14.543176  14.141907   6.232790  57.011005  ...   7.096343   \n",
       "3    7.823932   8.520713   2.066576  10.870009  53.292034  ...   5.200770   \n",
       "4   10.543189  26.688686  12.484822   1.364917  67.140393  ...  11.227770   \n",
       "..        ...        ...        ...        ...        ...  ...        ...   \n",
       "67  19.359546  23.505609  11.576176  11.325851  80.572057  ...   2.807635   \n",
       "68  17.703926  26.064890  10.707081  11.520120  65.041865  ...   2.492410   \n",
       "69  25.449565  30.949995  16.794696  17.121366  70.958462  ...   1.176826   \n",
       "70  21.585069  24.987992  11.460224  11.201202  67.767125  ...   2.840946   \n",
       "71  29.659104  31.093687  13.298860  11.010397  55.771485  ...   3.698096   \n",
       "\n",
       "      RPS4Y1       ZFY      PRKY     USP9Y     DDX3Y       CD24  CYorf15B  \\\n",
       "0   1.257614  1.257614  1.257614  1.257614  1.257614  23.268694  1.257614   \n",
       "1   1.815112  1.815112  1.815112  1.815112  1.815112  10.427023  1.815112   \n",
       "2   2.077597  2.077597  2.077597  2.077597  2.077597  22.344226  2.077597   \n",
       "3   2.066576  2.066576  2.066576  2.066576  2.066576  49.295538  2.066576   \n",
       "4   1.364917  1.364917  1.364917  1.364917  1.364917  23.627911  1.364917   \n",
       "..       ...       ...       ...       ...       ...        ...       ...   \n",
       "67  1.466240  2.807635  1.466240  2.807635  3.689955  18.449777  1.466240   \n",
       "68  2.492410  1.301619  3.275668  1.301619  1.301619   8.601194  1.301619   \n",
       "69  1.176826  1.176826  2.961613  1.176826  1.176826  10.764365  1.176826   \n",
       "70  1.483635  1.483635  1.483635  1.483635  1.483635   8.522837  1.483635   \n",
       "71  1.596792  1.596792  3.698096  0.833898  0.833898  13.978672  0.833898   \n",
       "\n",
       "       KDM5D    EIF1AY  \n",
       "0   1.257614  1.257614  \n",
       "1   1.815112  1.815112  \n",
       "2   2.077597  2.077597  \n",
       "3   2.066576  2.066576  \n",
       "4   1.364917  1.364917  \n",
       "..       ...       ...  \n",
       "67  1.466240  1.466240  \n",
       "68  1.301619  1.301619  \n",
       "69  1.176826  1.176826  \n",
       "70  1.483635  1.483635  \n",
       "71  2.848303  0.833898  \n",
       "\n",
       "[72 rows x 15750 columns]"
      ]
     },
     "execution_count": 58,
     "metadata": {},
     "output_type": "execute_result"
    }
   ],
   "source": [
    "df = pd.read_csv('gene_high_throughput_sequencing.csv')\n",
    "df"
   ]
  },
  {
   "cell_type": "code",
   "execution_count": 59,
   "metadata": {},
   "outputs": [],
   "source": [
    "import scipy"
   ]
  },
  {
   "cell_type": "code",
   "execution_count": 60,
   "metadata": {},
   "outputs": [],
   "source": [
    "normal = df[df.Diagnosis == 'normal']\n",
    "early = df[df.Diagnosis == 'early neoplasia']\n",
    "cancer = df[df.Diagnosis == 'cancer']"
   ]
  },
  {
   "cell_type": "code",
   "execution_count": 204,
   "metadata": {},
   "outputs": [],
   "source": [
    "gen_names = df.columns[2:]\n",
    "\n",
    "norm_ear_canc = dict()\n",
    "ear_canc_abs_cans = dict()\n",
    "\n",
    "for name in gen_names:\n",
    "    norm_ear_canc[name] = scipy.stats.ttest_ind(normal[name],early[name],equal_var=False)[1]\n",
    "    ear_canc_abs_cans[name] = scipy.stats.ttest_ind(early[name],cancer[name],equal_var=False)[1]"
   ]
  },
  {
   "cell_type": "code",
   "execution_count": 78,
   "metadata": {},
   "outputs": [],
   "source": [
    "def write_answer(val, answer_file):\n",
    "    f = open(answer_file, 'w');\n",
    "    f.write(str(val))\n",
    "    f.close()"
   ]
  },
  {
   "cell_type": "code",
   "execution_count": 168,
   "metadata": {},
   "outputs": [
    {
     "name": "stdout",
     "output_type": "stream",
     "text": [
      "1575 3490\n"
     ]
    }
   ],
   "source": [
    "counter_1 = 0\n",
    "counter_2 = 0\n",
    "\n",
    "for name in gen_names:\n",
    "    if norm_ear_canc[name] < 0.05:\n",
    "        counter_1+=1\n",
    "    if ear_canc_abs_cans[name] < 0.05:\n",
    "        counter_2+=1\n",
    "\n",
    "print(counter_1,counter_2,sep=' ')"
   ]
  },
  {
   "cell_type": "code",
   "execution_count": 81,
   "metadata": {},
   "outputs": [],
   "source": [
    "write_answer(counter_1, 'c4w4gene/1.txt')\n",
    "write_answer(counter_2, 'c4w4gene/2.txt')"
   ]
  },
  {
   "attachments": {
    "image.png": {
     "image/png": "[encoded data removed]"
    }
   },
   "cell_type": "markdown",
   "metadata": {},
   "source": [
    "Цель исследований — найти гены, средняя экспрессия которых отличается не только статистически значимо, но и достаточно сильно. В экспрессионных исследованиях для этого часто используется метрика, которая называется fold change (кратность изменения). Определяется она следующим образом:\n",
    "\n",
    "![image.png](attachment:image.png)\n",
    "\n",
    "где C, TC,T — средние значения экспрессии гена в control и treatment группах соответственно. По сути, fold change показывает, во сколько раз отличаются средние двух выборок."
   ]
  },
  {
   "cell_type": "code",
   "execution_count": 196,
   "metadata": {},
   "outputs": [],
   "source": [
    "first_name = []\n",
    "second_name = []\n",
    "for name in gen_names:\n",
    "    first = normal[name].mean()/early[name].mean() if normal[name].mean() > early[name].mean() else (-1)*early[name].mean()/normal[name].mean()\n",
    "    if(abs(first)>1.5):\n",
    "        first_name.append(name)\n",
    "    second = early[name].mean()/cancer[name].mean() if early[name].mean() > cancer[name].mean() else (-1)*cancer[name].mean()/early[name].mean()\n",
    "    if(abs(second)>1.5):\n",
    "        second_name.append(name)"
   ]
  },
  {
   "cell_type": "code",
   "execution_count": 197,
   "metadata": {},
   "outputs": [],
   "source": [
    "norm_ear_canc = dict()\n",
    "for name in first_name:\n",
    "    norm_ear_canc[name] = scipy.stats.ttest_ind(normal[name],early[name],equal_var=False)[1]"
   ]
  },
  {
   "cell_type": "code",
   "execution_count": 198,
   "metadata": {},
   "outputs": [],
   "source": [
    "ear_canc_abs_cans = dict()\n",
    "for name in second_name:\n",
    "    ear_canc_abs_cans[name] = scipy.stats.ttest_ind(early[name],cancer[name],equal_var=False)[1]"
   ]
  },
  {
   "cell_type": "code",
   "execution_count": null,
   "metadata": {},
   "outputs": [],
   "source": []
  },
  {
   "cell_type": "code",
   "execution_count": null,
   "metadata": {},
   "outputs": [],
   "source": []
  },
  {
   "cell_type": "code",
   "execution_count": 82,
   "metadata": {},
   "outputs": [],
   "source": [
    "import statsmodels.stats.multitest as smm"
   ]
  },
  {
   "cell_type": "code",
   "execution_count": 156,
   "metadata": {},
   "outputs": [],
   "source": [
    "?smm.multipletests"
   ]
  },
  {
   "cell_type": "code",
   "execution_count": 199,
   "metadata": {},
   "outputs": [
    {
     "data": {
      "text/plain": [
       "31"
      ]
     },
     "execution_count": 199,
     "metadata": {},
     "output_type": "execute_result"
    }
   ],
   "source": [
    "smm.multipletests(np.array(list(norm_ear_canc.values())), alpha=0.05, method='holm')[0].sum()"
   ]
  },
  {
   "cell_type": "code",
   "execution_count": 200,
   "metadata": {},
   "outputs": [
    {
     "data": {
      "text/plain": [
       "217"
      ]
     },
     "execution_count": 200,
     "metadata": {},
     "output_type": "execute_result"
    }
   ],
   "source": [
    "smm.multipletests(np.array(list(ear_canc_abs_cans.values())), alpha=0.05, method='holm')[0].sum()"
   ]
  },
  {
   "cell_type": "code",
   "execution_count": 205,
   "metadata": {},
   "outputs": [
    {
     "name": "stdout",
     "output_type": "stream",
     "text": [
      "2 79\n"
     ]
    }
   ],
   "source": [
    "a3 = smm.multipletests(list(norm_ear_canc.values()), alpha=0.05/2., method='bonferroni')[0].sum()\n",
    "a4 = smm.multipletests(list(ear_canc_abs_cans.values()), alpha=0.05/2., method='bonferroni')[0].sum()\n",
    "print(a3, a4)\n",
    "write_answer(a3, 'c4w4gene/3.txt')\n",
    "write_answer(a4, 'c4w4gene/4.txt')"
   ]
  },
  {
   "cell_type": "code",
   "execution_count": 215,
   "metadata": {},
   "outputs": [
    {
     "data": {
      "text/plain": [
       "1071"
      ]
     },
     "execution_count": 215,
     "metadata": {},
     "output_type": "execute_result"
    }
   ],
   "source": [
    "len(second_name)"
   ]
  },
  {
   "cell_type": "code",
   "execution_count": 212,
   "metadata": {},
   "outputs": [
    {
     "name": "stdout",
     "output_type": "stream",
     "text": [
      "4 524\n"
     ]
    }
   ],
   "source": [
    "a5 = smm.multipletests(list(norm_ear_canc.values()), alpha=0.011, method='fdr_bh')[0].sum()\n",
    "a6 = smm.multipletests(list(ear_canc_abs_cans.values()), alpha=0.011, method='fdr_bh')[0].sum()\n",
    "print(a5, a6)\n",
    "write_answer(a5, 'c4w4gene/5.txt')\n",
    "write_answer(a6, 'c4w4gene/6.txt')"
   ]
  },
  {
   "cell_type": "code",
   "execution_count": null,
   "metadata": {},
   "outputs": [],
   "source": []
  },
  {
   "cell_type": "code",
   "execution_count": null,
   "metadata": {},
   "outputs": [],
   "source": []
  },
  {
   "cell_type": "code",
   "execution_count": null,
   "metadata": {},
   "outputs": [],
   "source": []
  }
 ],
 "metadata": {
  "kernelspec": {
   "display_name": "Python 3.6.12 64-bit",
   "language": "python",
   "name": "python361264bit23cc0021e6584445b516b12a65039dbc"
  },
  "language_info": {
   "codemirror_mode": {
    "name": "ipython",
    "version": 3
   },
   "file_extension": ".py",
   "mimetype": "text/x-python",
   "name": "python",
   "nbconvert_exporter": "python",
   "pygments_lexer": "ipython3",
   "version": "3.6.12"
  }
 },
 "nbformat": 4,
 "nbformat_minor": 4
}
