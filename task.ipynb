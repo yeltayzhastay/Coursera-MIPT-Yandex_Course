{
 "cells": [
  {
   "cell_type": "markdown",
   "metadata": {},
   "source": [
    "# Task-1"
   ]
  },
  {
   "cell_type": "code",
   "execution_count": 109,
   "metadata": {},
   "outputs": [],
   "source": [
    "import numpy\n",
    "import re\n",
    "import numpy as np\n",
    "from scipy.spatial.distance import cosine"
   ]
  },
  {
   "cell_type": "code",
   "execution_count": 110,
   "metadata": {},
   "outputs": [
    {
     "data": {
      "text/plain": [
       "[['in',\n",
       "  'comparison',\n",
       "  'to',\n",
       "  'dogs',\n",
       "  'cats',\n",
       "  'have',\n",
       "  'not',\n",
       "  'undergone',\n",
       "  'major',\n",
       "  'changes',\n",
       "  'during',\n",
       "  'the',\n",
       "  'domestication',\n",
       "  'process']]"
      ]
     },
     "execution_count": 110,
     "metadata": {},
     "output_type": "execute_result"
    }
   ],
   "source": [
    "text = []\n",
    "with open(\"sentences.txt\") as file:\n",
    "    for line in file.readlines():\n",
    "        preprocess = re.split('[^a-z]', line.lower())\n",
    "        preprocess = [line for line in preprocess if line != '']\n",
    "        text.append(preprocess)\n",
    "        \n",
    "text[:1]"
   ]
  },
  {
   "cell_type": "code",
   "execution_count": 111,
   "metadata": {},
   "outputs": [
    {
     "data": {
      "text/plain": [
       "['just',\n",
       " 'lb',\n",
       " 'community',\n",
       " 'ears',\n",
       " 'wild',\n",
       " 'symbol',\n",
       " 'typically',\n",
       " 'with',\n",
       " 'unix',\n",
       " 'to']"
      ]
     },
     "execution_count": 111,
     "metadata": {},
     "output_type": "execute_result"
    }
   ],
   "source": [
    "all_words = [word for sent in text for word in sent]\n",
    "all_words = list(set(all_words))\n",
    "all_words[:10]"
   ]
  },
  {
   "cell_type": "code",
   "execution_count": 112,
   "metadata": {},
   "outputs": [
    {
     "data": {
      "text/plain": [
       "{'just': 0,\n",
       " 'lb': 1,\n",
       " 'community': 2,\n",
       " 'ears': 3,\n",
       " 'wild': 4,\n",
       " 'symbol': 5,\n",
       " 'typically': 6,\n",
       " 'with': 7,\n",
       " 'unix': 8,\n",
       " 'to': 9,\n",
       " 'delete': 10,\n",
       " 'rather': 11,\n",
       " 'stdin': 12,\n",
       " 'safari': 13,\n",
       " 'small': 14,\n",
       " 'july': 15,\n",
       " 'deliberately': 16,\n",
       " 'command': 17,\n",
       " 'on': 18,\n",
       " 'from': 19,\n",
       " 'use': 20,\n",
       " 'intel': 21,\n",
       " 'concatenate': 22,\n",
       " 'may': 23,\n",
       " 'marks': 24,\n",
       " 'a': 25,\n",
       " 'tamed': 26,\n",
       " 'diploid': 27,\n",
       " 'instead': 28,\n",
       " 'have': 29,\n",
       " 'download': 30,\n",
       " 'drive': 31,\n",
       " 'piped': 32,\n",
       " 'won': 33,\n",
       " 'create': 34,\n",
       " 'run': 35,\n",
       " 'where': 36,\n",
       " 'type': 37,\n",
       " 'os': 38,\n",
       " 'for': 39,\n",
       " 'fifth': 40,\n",
       " 'of': 41,\n",
       " 'two': 42,\n",
       " 'read': 43,\n",
       " 'output': 44,\n",
       " 'running': 45,\n",
       " 'versions': 46,\n",
       " 'switch': 47,\n",
       " 'right': 48,\n",
       " 'lion': 49,\n",
       " 'changes': 50,\n",
       " 'undergone': 51,\n",
       " 'its': 52,\n",
       " 'however': 53,\n",
       " 'so': 54,\n",
       " 'some': 55,\n",
       " 'flow': 56,\n",
       " 'file': 57,\n",
       " 'domestication': 58,\n",
       " 'wrong': 59,\n",
       " 'using': 60,\n",
       " 'predecessor': 61,\n",
       " 'vermin': 62,\n",
       " 'safer': 63,\n",
       " 'left': 64,\n",
       " 'no': 65,\n",
       " 'osx': 66,\n",
       " 'second': 67,\n",
       " 'off': 68,\n",
       " 'closest': 69,\n",
       " 'mac': 70,\n",
       " 'made': 71,\n",
       " 'linux': 72,\n",
       " 'often': 73,\n",
       " 'started': 74,\n",
       " 'genes': 75,\n",
       " 'genus': 76,\n",
       " 'was': 77,\n",
       " 's': 78,\n",
       " 'releasing': 79,\n",
       " 'domestic': 80,\n",
       " 'every': 81,\n",
       " 'the': 82,\n",
       " 't': 83,\n",
       " 'adjacent': 84,\n",
       " 'and': 85,\n",
       " 'place': 86,\n",
       " 'sequence': 87,\n",
       " 'an': 88,\n",
       " 'separate': 89,\n",
       " 'any': 90,\n",
       " 'predators': 91,\n",
       " 'hear': 92,\n",
       " 'not': 93,\n",
       " 'other': 94,\n",
       " 'binary': 95,\n",
       " 'both': 96,\n",
       " 'content': 97,\n",
       " 'according': 98,\n",
       " 'size': 99,\n",
       " 'world': 100,\n",
       " 'count': 101,\n",
       " 'selection': 102,\n",
       " 'terms': 103,\n",
       " 'major': 104,\n",
       " 'clear': 105,\n",
       " 'upgrade': 106,\n",
       " 'that': 107,\n",
       " 'most': 108,\n",
       " 'successor': 109,\n",
       " 'arguments': 110,\n",
       " 'installed': 111,\n",
       " 'needing': 112,\n",
       " 'redirection': 113,\n",
       " 'time': 114,\n",
       " 'factory': 115,\n",
       " 'released': 116,\n",
       " 'yosemite': 117,\n",
       " 'year': 118,\n",
       " 'too': 119,\n",
       " 'files': 120,\n",
       " 'high': 121,\n",
       " 'as': 122,\n",
       " 'those': 123,\n",
       " 'simply': 124,\n",
       " 'kg': 125,\n",
       " 'weighing': 126,\n",
       " 'cat': 127,\n",
       " 'more': 128,\n",
       " 'catenates': 129,\n",
       " 'has': 130,\n",
       " 'disk': 131,\n",
       " 'moved': 132,\n",
       " 'are': 133,\n",
       " 'chromosomes': 134,\n",
       " 'symbols': 135,\n",
       " 'common': 136,\n",
       " 'without': 137,\n",
       " 'they': 138,\n",
       " 'felis': 139,\n",
       " 'contains': 140,\n",
       " 'online': 141,\n",
       " 'releases': 142,\n",
       " 'need': 143,\n",
       " 'in': 144,\n",
       " 'x': 145,\n",
       " 'keyboards': 146,\n",
       " 'bytes': 147,\n",
       " 'installation': 148,\n",
       " 'default': 149,\n",
       " 'permanently': 150,\n",
       " 'installs': 151,\n",
       " 'were': 152,\n",
       " 'longer': 153,\n",
       " 'their': 154,\n",
       " 'later': 155,\n",
       " 'domesticated': 156,\n",
       " 'interactive': 157,\n",
       " 'starting': 158,\n",
       " 'based': 159,\n",
       " 'similar': 160,\n",
       " 'features': 161,\n",
       " 'recent': 162,\n",
       " 'than': 163,\n",
       " 'connected': 164,\n",
       " 'members': 165,\n",
       " 'streams': 166,\n",
       " 'concern': 167,\n",
       " 'also': 168,\n",
       " 'received': 169,\n",
       " 'enhancements': 170,\n",
       " 'leopard': 171,\n",
       " 'which': 172,\n",
       " 'used': 173,\n",
       " 'apple': 174,\n",
       " 'learned': 175,\n",
       " 'cats': 176,\n",
       " 'non': 177,\n",
       " 'patch': 178,\n",
       " 'pipes': 179,\n",
       " 'will': 180,\n",
       " 'information': 181,\n",
       " 'mountain': 182,\n",
       " 'entirely': 183,\n",
       " 'allow': 184,\n",
       " 'developed': 185,\n",
       " 'lines': 186,\n",
       " 'roughly': 187,\n",
       " 'receives': 188,\n",
       " 'tiger': 189,\n",
       " 'external': 190,\n",
       " 'unnecessary': 191,\n",
       " 'such': 192,\n",
       " 'processors': 193,\n",
       " 'artificial': 194,\n",
       " 'allows': 195,\n",
       " 'possess': 196,\n",
       " 'single': 197,\n",
       " 'between': 198,\n",
       " 'legibility': 199,\n",
       " 'animals': 200,\n",
       " 'frequency': 201,\n",
       " 'editions': 202,\n",
       " 'through': 203,\n",
       " 'firmware': 204,\n",
       " 'faint': 205,\n",
       " 'app': 206,\n",
       " 'incremental': 207,\n",
       " 'sounds': 208,\n",
       " 'is': 209,\n",
       " 'basic': 210,\n",
       " 'mid': 211,\n",
       " 'ancestor': 212,\n",
       " 'error': 213,\n",
       " 'you': 214,\n",
       " 'it': 215,\n",
       " 'useful': 216,\n",
       " 'new': 217,\n",
       " 'october': 218,\n",
       " 'mice': 219,\n",
       " 'when': 220,\n",
       " 'release': 221,\n",
       " 'version': 222,\n",
       " 'computers': 223,\n",
       " 'process': 224,\n",
       " 'one': 225,\n",
       " 'update': 226,\n",
       " 'part': 227,\n",
       " 'stdout': 228,\n",
       " 'human': 229,\n",
       " 'displays': 230,\n",
       " 'available': 231,\n",
       " 'if': 232,\n",
       " 'standard': 233,\n",
       " 'three': 234,\n",
       " 'redirected': 235,\n",
       " 'organisms': 236,\n",
       " 'mavericks': 237,\n",
       " 'be': 238,\n",
       " 'over': 239,\n",
       " 'now': 240,\n",
       " 'during': 241,\n",
       " 'purchase': 242,\n",
       " 'store': 243,\n",
       " 'or': 244,\n",
       " 'named': 245,\n",
       " 'commands': 246,\n",
       " 'since': 247,\n",
       " 'by': 248,\n",
       " 'dogs': 249,\n",
       " 'comparison': 250,\n",
       " 'people': 251,\n",
       " 'can': 252,\n",
       " 'offered': 253}"
      ]
     },
     "execution_count": 112,
     "metadata": {},
     "output_type": "execute_result"
    }
   ],
   "source": [
    "word_dict = {all_words[i]: i for i in range(len(all_words))}\n",
    "word_dict"
   ]
  },
  {
   "cell_type": "code",
   "execution_count": 113,
   "metadata": {},
   "outputs": [],
   "source": [
    "vector = np.zeros((len(text), len(word_dict)))\n",
    "for i in range(len(text)):\n",
    "    for j in text[i]:\n",
    "        vector[i, word_dict[j]] += 1"
   ]
  },
  {
   "cell_type": "code",
   "execution_count": 114,
   "metadata": {},
   "outputs": [
    {
     "data": {
      "text/plain": [
       "array([1., 0., 0., 0., 0., 1., 0., 1., 0., 1., 1., 0., 0., 0., 0., 0., 0.,\n",
       "       0., 1., 0., 1., 0., 0., 1., 0., 1., 0., 0., 1., 0., 0., 0., 0., 0.,\n",
       "       0., 0., 1., 0., 0., 0., 0., 2., 0., 1., 0., 0., 0., 0., 0., 0., 0.,\n",
       "       0., 0., 0., 0., 0., 0., 2., 0., 1., 0., 0., 0., 1., 0., 0., 0., 0.,\n",
       "       0., 0., 0., 0., 0., 1., 0., 0., 0., 0., 0., 0., 0., 0., 2., 0., 1.,\n",
       "       0., 0., 0., 0., 0., 0., 0., 0., 0., 0., 0., 0., 0., 0., 0., 0., 0.,\n",
       "       0., 0., 0., 0., 0., 0., 0., 0., 0., 0., 1., 1., 0., 0., 0., 0., 0.,\n",
       "       0., 0., 0., 0., 0., 0., 0., 0., 1., 0., 0., 0., 0., 0., 0., 0., 0.,\n",
       "       0., 0., 0., 0., 0., 0., 0., 0., 0., 0., 1., 0., 0., 1., 1., 0., 1.,\n",
       "       0., 0., 0., 0., 0., 0., 0., 0., 0., 0., 0., 0., 0., 0., 1., 0., 0.,\n",
       "       0., 0., 0., 0., 0., 0., 0., 0., 0., 0., 0., 0., 0., 0., 0., 0., 0.,\n",
       "       0., 0., 0., 0., 0., 0., 0., 0., 0., 0., 0., 0., 0., 0., 0., 0., 0.,\n",
       "       0., 0., 0., 0., 0., 2., 0., 0., 0., 1., 1., 0., 0., 0., 0., 0., 0.,\n",
       "       0., 0., 0., 0., 2., 0., 0., 0., 1., 0., 0., 0., 0., 0., 0., 0., 0.,\n",
       "       0., 0., 0., 0., 0., 0., 0., 1., 0., 0., 0., 0., 0., 0., 0., 0.])"
      ]
     },
     "execution_count": 114,
     "metadata": {},
     "output_type": "execute_result"
    }
   ],
   "source": [
    "vector[8]"
   ]
  },
  {
   "cell_type": "code",
   "execution_count": 128,
   "metadata": {},
   "outputs": [
    {
     "data": {
      "text/plain": [
       "{0: 0.0,\n",
       " 1: 0.9527544408738466,\n",
       " 2: 0.8644738145642124,\n",
       " 3: 0.8951715163278082,\n",
       " 4: 0.7770887149698589,\n",
       " 5: 0.9402385695332803,\n",
       " 6: 0.7327387580875756,\n",
       " 7: 0.9258750683338899,\n",
       " 8: 0.8842724875284311,\n",
       " 9: 0.9055088817476932,\n",
       " 10: 0.8328165362273942,\n",
       " 11: 0.8804771390665607,\n",
       " 12: 0.8396432548525454,\n",
       " 13: 0.8703592552895671,\n",
       " 14: 0.8740118423302576,\n",
       " 15: 0.9442721787424647,\n",
       " 16: 0.8406361854220809,\n",
       " 17: 0.956644501523794,\n",
       " 18: 0.9442721787424647,\n",
       " 19: 0.8885443574849294,\n",
       " 20: 0.8427572744917122,\n",
       " 21: 0.8250364469440588}"
      ]
     },
     "execution_count": 128,
     "metadata": {},
     "output_type": "execute_result"
    }
   ],
   "source": [
    "dist = {i:cosine(vector[0], vector[i]) for i in range(0, len(vector))}\n",
    "dist"
   ]
  },
  {
   "cell_type": "code",
   "execution_count": 131,
   "metadata": {},
   "outputs": [
    {
     "data": {
      "text/plain": [
       "{0: 0.0,\n",
       " 6: 0.7327387580875756,\n",
       " 4: 0.7770887149698589,\n",
       " 21: 0.8250364469440588,\n",
       " 10: 0.8328165362273942,\n",
       " 12: 0.8396432548525454,\n",
       " 16: 0.8406361854220809,\n",
       " 20: 0.8427572744917122,\n",
       " 2: 0.8644738145642124,\n",
       " 13: 0.8703592552895671,\n",
       " 14: 0.8740118423302576,\n",
       " 11: 0.8804771390665607,\n",
       " 8: 0.8842724875284311,\n",
       " 19: 0.8885443574849294,\n",
       " 3: 0.8951715163278082,\n",
       " 9: 0.9055088817476932,\n",
       " 7: 0.9258750683338899,\n",
       " 5: 0.9402385695332803,\n",
       " 15: 0.9442721787424647,\n",
       " 18: 0.9442721787424647,\n",
       " 1: 0.9527544408738466,\n",
       " 17: 0.956644501523794}"
      ]
     },
     "execution_count": 131,
     "metadata": {},
     "output_type": "execute_result"
    }
   ],
   "source": [
    "{k: v for k, v in sorted(dist.items(), key=lambda item: item[1])}"
   ]
  },
  {
   "cell_type": "markdown",
   "metadata": {},
   "source": [
    "# Task-2"
   ]
  },
  {
   "cell_type": "markdown",
   "metadata": {},
   "source": [
    "f(x) = sin(x / 5) * exp(x / 10) + 5 * exp(-x / 2)"
   ]
  },
  {
   "cell_type": "code",
   "execution_count": 154,
   "metadata": {},
   "outputs": [],
   "source": [
    "from scipy.linalg import solve\n",
    "from math import sin, exp\n",
    "import pandas as pd\n",
    "import numpy as np"
   ]
  },
  {
   "cell_type": "code",
   "execution_count": 155,
   "metadata": {},
   "outputs": [],
   "source": [
    "def f(x):\n",
    "    return sin(x/5.0) * exp(x/10.0) + 5*exp(-x/2.0)"
   ]
  },
  {
   "cell_type": "code",
   "execution_count": 157,
   "metadata": {},
   "outputs": [
    {
     "data": {
      "text/plain": [
       "<matplotlib.axes._subplots.AxesSubplot at 0x23a59a95550>"
      ]
     },
     "execution_count": 157,
     "metadata": {},
     "output_type": "execute_result"
    },
    {
     "data": {
      "image/png": "[encoded data removed]",
      "text/plain": [
       "<Figure size 432x288 with 1 Axes>"
      ]
     },
     "metadata": {
      "needs_background": "light"
     },
     "output_type": "display_data"
    }
   ],
   "source": [
    "pd.DataFrame([f(i) for i in np.arange(1,16,0.001)]).plot()"
   ]
  },
  {
   "cell_type": "code",
   "execution_count": 139,
   "metadata": {},
   "outputs": [
    {
     "data": {
      "text/plain": [
       "array([[-29.,  -6.],\n",
       "       [ 18.,   4.]])"
      ]
     },
     "execution_count": 139,
     "metadata": {},
     "output_type": "execute_result"
    }
   ],
   "source": [
    "solve([[1,2], [3,5]], [[7,2], [3,2]])"
   ]
  },
  {
   "cell_type": "code",
   "execution_count": null,
   "metadata": {},
   "outputs": [],
   "source": []
  }
 ],
 "metadata": {
  "kernelspec": {
   "display_name": "Python 3",
   "language": "python",
   "name": "python3"
  },
  "language_info": {
   "codemirror_mode": {
    "name": "ipython",
    "version": 3
   },
   "file_extension": ".py",
   "mimetype": "text/x-python",
   "name": "python",
   "nbconvert_exporter": "python",
   "pygments_lexer": "ipython3",
   "version": "3.6.5"
  }
 },
 "nbformat": 4,
 "nbformat_minor": 4
}
